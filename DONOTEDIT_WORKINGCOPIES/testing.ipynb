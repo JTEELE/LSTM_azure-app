{
 "cells": [
  {
   "cell_type": "code",
   "execution_count": 1,
   "metadata": {},
   "outputs": [],
   "source": [
    "from selenium import webdriver\n",
    "from webdriver_manager.chrome import ChromeDriverManager\n",
    "from tradingview_ta import TA_Handler, Interval\n",
    "from tvDatafeed import TvDatafeed,Interval\n",
    "import logging\n",
    "import os\n",
    "tradev_id = os.getenv(\"username\")\n",
    "tradev_secret_key = os.getenv(\"password_tv\")\n",
    "\n",
    "tv = TvDatafeed(tradev_id, tradev_secret_key, chromedriver_path=None)\n"
   ]
  }
 ],
 "metadata": {
  "interpreter": {
   "hash": "e7ce5c763dad3ec7d4e5fa522151d4ed35a31fd22808f0a13718519f209e4c56"
  },
  "kernelspec": {
   "display_name": "Python 3.9.7 64-bit ('teele': conda)",
   "language": "python",
   "name": "python3"
  },
  "language_info": {
   "codemirror_mode": {
    "name": "ipython",
    "version": 3
   },
   "file_extension": ".py",
   "mimetype": "text/x-python",
   "name": "python",
   "nbconvert_exporter": "python",
   "pygments_lexer": "ipython3",
   "version": "3.9.7"
  },
  "orig_nbformat": 4
 },
 "nbformat": 4,
 "nbformat_minor": 2
}
