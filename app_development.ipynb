{
 "cells": [
  {
   "cell_type": "code",
   "execution_count": 1,
   "metadata": {},
   "outputs": [],
   "source": [
    "# Extract Algo & NLP results from Funcationality folders\n",
    "from datetime import datetime, timedelta\n",
    "import os\n",
    "time = datetime.now()\n",
    "import pandas as pd\n",
    "reddit_path = r\"Data/Functionality/Reddit/\"\n",
    "algo_path = r\"Data/Functionality/Algo_Bot/\"\n",
    "twitter_sentiment = pd.read_csv('Data/Functionality/Twitter/subjectivity_and_polarity.csv')\n",
    "extension = '.csv'\n",
    "\n",
    "def Average(lst):\n",
    "    return sum(lst) / len(lst)\n",
    "\n",
    "def Sum(lst):\n",
    "    return sum(lst) / len(lst)\n",
    "\n",
    "def format_convert(x):\n",
    "    try:\n",
    "        return \"{:.0%}\".format(x)\n",
    "    except:\n",
    "        return \"{:.0%}\".format(float(x))\n",
    "\n",
    "def dollar_sign(x):\n",
    "    return \"${:,.2f}\".format(x)\n",
    "\n",
    "file_names = []\n",
    "reddit_data = {}\n",
    "for root, dirs_list, files_list in os.walk(reddit_path):\n",
    "    for file_name in files_list:\n",
    "        if os.path.splitext(file_name)[-1] == extension:\n",
    "            file_name_path = os.path.join(root, file_name)\n",
    "            data = pd.read_csv(file_name_path)\n",
    "            reddit_data[file_name] = data\n",
    "            file_names.append(file_name)\n",
    "\n",
    "compound_scores = []\n",
    "for crypto_sentiment in file_names:\n",
    "    positive = (reddit_data[crypto_sentiment]['compound'][1])\n",
    "    compound_scores.append(positive)\n",
    "compound_sentiment = Average(compound_scores)\n",
    "\n",
    "#Algo strategy results\n",
    "algo_crypto = []\n",
    "investment_algorithm = {}\n",
    "for root, dirs_list, files_list in os.walk(algo_path):\n",
    "    for file_name in files_list:\n",
    "        if os.path.splitext(file_name)[-1] == extension:\n",
    "            file_name_path = os.path.join(root, file_name)\n",
    "            data = pd.read_csv(file_name_path)\n",
    "            investment_algorithm[file_name] = data\n",
    "            algo_crypto.append(file_name)\n",
    "\n",
    "#Google Results\n",
    "google_corr = pd.read_csv('Data/Functionality/Google/Correlation.csv', index_col='Unnamed: 0')\n",
    "google_sent = pd.read_csv('Data/Functionality/Google/Sentiments.csv')\n",
    "gcrypto_trends=google_sent['crypto_choice_avg'].mean()\n",
    "ginflation_trends=google_sent['inflation_headlinese_avg'].mean()\n",
    "genergy_trends=google_sent['energy_consumption_avg'].mean()\n",
    "\n",
    "total_profit = []\n",
    "for algo in algo_crypto:\n",
    "    total_returns = (investment_algorithm[algo]['profit'].iloc[-1])\n",
    "    total_profit.append(total_returns)\n",
    "total_profit = sum(total_profit)\n",
    "\n",
    "#Twitter results\n",
    "twitter_sentiment = pd.read_csv('Data/Functionality/Twitter/subjectivity_and_polarity.csv')\n",
    "sentiment_counts = twitter_sentiment[\"Analysis\"].value_counts('Positive')\n",
    "subjectivity = format_convert(twitter_sentiment['Subjectivity'].mean())\n",
    "polarity = format_convert(twitter_sentiment['Polarity'].mean())\n",
    "try:\n",
    "    positive_posts = format_convert(sentiment_counts['Positive'])\n",
    "except:\n",
    "    pass\n",
    "try:\n",
    "    neutral_posts = format_convert(sentiment_counts['Neutral'])\n",
    "except:\n",
    "    pass\n",
    "try:\n",
    "    negative_posts = format_convert(sentiment_counts['Negative'])\n",
    "except:\n",
    "    pass\n",
    "\n",
    "twitter_market_sentiment = pd.read_csv('Data/Functionality/Twitter/market_sentiment_analysis.csv')\n",
    "market_sentiment_counts = twitter_market_sentiment[\"Analysis\"].value_counts('Positive')\n",
    "market_subjectivity = format_convert(twitter_market_sentiment['Subjectivity'].mean())\n",
    "market_polarity = format_convert(twitter_market_sentiment['Polarity'].mean())\n",
    "\n",
    "try: \n",
    "    market_positive_posts = format_convert(market_sentiment_counts['Positive'])\n",
    "except:\n",
    "    pass\n",
    "try:\n",
    "    market_neutral_posts = format_convert(market_sentiment_counts['Neutral'])\n",
    "except:\n",
    "    pass\n",
    "try:\n",
    "    market_negative_posts = format_convert(market_sentiment_counts['Negative'])\n",
    "except:\n",
    "    pass"
   ]
  },
  {
   "cell_type": "code",
   "execution_count": 2,
   "metadata": {},
   "outputs": [],
   "source": [
    "tickers_denominated = ['BTCUSD', 'ETHUSD', 'USDTUSD', 'BNBUSD', 'SOLUSD', 'USDCUSD', 'ADAUSD', 'XRPUSD', 'DOTUSD', 'LUNAUSD', 'AVAXUSD', 'DOGEUSD', 'SHIBUSD', 'BUSDUSD', 'MATICUSD', 'LINKUSD', 'CROUSD', 'WBTCUSD', 'ATOMUSD', 'USTUSD', 'ALGOUSD', 'LTCUSD', 'DAIUSD', 'NEARUSD', 'BCHUSD', 'UNIUSD', 'TRXUSD', 'ICPUSD', 'OKBUSD', 'XLMUSD', 'FTMUSD', 'STETHUSD', 'VETUSD', 'AXSUSD', 'HBARUSD', 'FTTUSD', 'MIMUSD', 'CETHUSD', 'FILUSD', 'SANDUSD', 'THETAUSD', 'MANAUSD', 'EGLDUSD', 'ETCUSD', 'ONEUSD', 'XTZUSD', 'LEOUSD', 'KLAYUSD', 'XMRUSD', 'CDAIUSD']"
   ]
  },
  {
   "cell_type": "code",
   "execution_count": 3,
   "metadata": {},
   "outputs": [
    {
     "name": "stdout",
     "output_type": "stream",
     "text": [
      "The top picks have a 0.15846844421101772 Average Compound Score on Reddit at 2022-01-08 22:25:49.136327.\n"
     ]
    }
   ],
   "source": [
    "print(f'The top picks have a {compound_sentiment} Average Compound Score on Reddit at {time}.') "
   ]
  },
  {
   "cell_type": "code",
   "execution_count": 4,
   "metadata": {},
   "outputs": [
    {
     "name": "stdout",
     "output_type": "stream",
     "text": [
      "Overall Crypto Market Sentiment: scanned at 2022-01-08 22:25:49.136327\n",
      "\n",
      "36% of their posts have a positive tone.\n",
      "\n",
      "8% of their posts have a negative tone.\n",
      "\n",
      "The remaining 56% of their posts have a neutral tone.\n",
      "\n"
     ]
    }
   ],
   "source": [
    "print(f'Overall Crypto Market Sentiment: scanned at {time}')\n",
    "print('')\n",
    "print(f'{market_positive_posts} of their posts have a positive tone.')\n",
    "print('')\n",
    "print(f'{market_negative_posts} of their posts have a negative tone.')\n",
    "print('')\n",
    "print(f'The remaining {market_neutral_posts} of their posts have a neutral tone.')\n",
    "print('')"
   ]
  },
  {
   "cell_type": "code",
   "execution_count": 5,
   "metadata": {},
   "outputs": [
    {
     "name": "stdout",
     "output_type": "stream",
     "text": [
      "Top Influential Icons in the Cryptocurrency market: scanned at 2022-01-08 22:25:49.136327\n",
      "\n",
      "51% of their posts have a positive tone.\n",
      "\n",
      "7% of their posts have a negative tone.\n",
      "\n",
      "The remaining 42% of their posts have a neutral tone.\n",
      "\n"
     ]
    }
   ],
   "source": [
    "print(f'Top Influential Icons in the Cryptocurrency market: scanned at {time}')\n",
    "print('')\n",
    "print(f'{positive_posts} of their posts have a positive tone.')\n",
    "print('')\n",
    "print(f'{negative_posts} of their posts have a negative tone.')\n",
    "print('')\n",
    "print(f'The remaining {neutral_posts} of their posts have a neutral tone.')\n",
    "print('')"
   ]
  },
  {
   "cell_type": "code",
   "execution_count": 6,
   "metadata": {},
   "outputs": [
    {
     "name": "stdout",
     "output_type": "stream",
     "text": [
      "Google Trends Scanned at 2022-01-08 22:25:49.136327\n",
      "\n",
      "Crypto is trending with a sentiment score of 0.000893571428571433.\n",
      "\n",
      "Inflation is trending with a sentiment score of 0.010588035714285723.\n",
      "\n",
      "Energy is trending with a sentiment score of 0.10334321428571427.\n",
      "\n"
     ]
    }
   ],
   "source": [
    "print(f'Google Trends Scanned at {time}')\n",
    "print('')\n",
    "print(f'Crypto is trending with a sentiment score of {gcrypto_trends}.')\n",
    "print('')\n",
    "print(f'Inflation is trending with a sentiment score of {ginflation_trends}.')\n",
    "print('')\n",
    "print(f'Energy is trending with a sentiment score of {genergy_trends}.')\n",
    "print('') "
   ]
  },
  {
   "cell_type": "code",
   "execution_count": 7,
   "metadata": {},
   "outputs": [
    {
     "name": "stdout",
     "output_type": "stream",
     "text": [
      "Cryptaras day-trading profit is $128,791.60 as of 2022-01-08 22:25:49.136327\n"
     ]
    }
   ],
   "source": [
    "print(f'Cryptaras day-trading profit is {dollar_sign(total_profit)} as of {time}')"
   ]
  },
  {
   "cell_type": "code",
   "execution_count": 8,
   "metadata": {},
   "outputs": [],
   "source": [
    "def print_results():\n",
    "    print('')\n",
    "    print('')\n",
    "    print(f'The top picks have a {compound_sentiment} Average Compound Score on Reddit at {time}.') \n",
    "    print('')\n",
    "    print('')\n",
    "    print('')\n",
    "    print('')\n",
    "    print('')\n",
    "    print(f'Overall Crypto Market Sentiment: scanned at {time}')\n",
    "    print('')\n",
    "    print(f'{market_positive_posts} of their posts have a positive tone.')\n",
    "    print('')\n",
    "    print(f'{market_negative_posts} of their posts have a negative tone.')\n",
    "    print('')\n",
    "    print(f'The remaining {market_neutral_posts} of their posts have a neutral tone.')\n",
    "    print('')\n",
    "    print('')\n",
    "    print('')\n",
    "    print('')\n",
    "    print('')\n",
    "    print('')\n",
    "    print(f'Top Influential Icons in the Cryptocurrency market: scanned at {time}')\n",
    "    print('')\n",
    "    print(f'{positive_posts} of their posts have a positive tone.')\n",
    "    print('')\n",
    "    print(f'{negative_posts} of their posts have a negative tone.')\n",
    "    print('')\n",
    "    print(f'The remaining {neutral_posts} of their posts have a neutral tone.')\n",
    "    print('')\n",
    "    print('')\n",
    "    print('')\n",
    "    print('')\n",
    "    print('')\n",
    "    print('')\n",
    "    print(f'Google Trends Scanned at {time}')\n",
    "    print('')\n",
    "    print(f'Crypto is trending with a sentiment score of {gcrypto_trends}.')\n",
    "    print('')\n",
    "    print(f'Inflation is trending with a sentiment score of {ginflation_trends}.')\n",
    "    print('')\n",
    "    print(f'Energy is trending with a sentiment score of {genergy_trends}.')\n",
    "    print('') \n",
    "    print('')\n",
    "    print('')\n",
    "    print('')\n",
    "    print('')\n",
    "    print('')\n",
    "    print('complete!')"
   ]
  },
  {
   "cell_type": "code",
   "execution_count": 9,
   "metadata": {},
   "outputs": [
    {
     "name": "stdout",
     "output_type": "stream",
     "text": [
      "\n",
      "\n",
      "The top picks have a 0.15846844421101772 Average Compound Score on Reddit at 2022-01-08 22:25:49.136327.\n",
      "\n",
      "\n",
      "\n",
      "\n",
      "\n",
      "Overall Crypto Market Sentiment: scanned at 2022-01-08 22:25:49.136327\n",
      "\n",
      "36% of their posts have a positive tone.\n",
      "\n",
      "8% of their posts have a negative tone.\n",
      "\n",
      "The remaining 56% of their posts have a neutral tone.\n",
      "\n",
      "\n",
      "\n",
      "\n",
      "\n",
      "\n",
      "Top Influential Icons in the Cryptocurrency market: scanned at 2022-01-08 22:25:49.136327\n",
      "\n",
      "51% of their posts have a positive tone.\n",
      "\n",
      "7% of their posts have a negative tone.\n",
      "\n",
      "The remaining 42% of their posts have a neutral tone.\n",
      "\n",
      "\n",
      "\n",
      "\n",
      "\n",
      "\n",
      "Google Trends Scanned at 2022-01-08 22:25:49.136327\n",
      "\n",
      "Crypto is trending with a sentiment score of 0.000893571428571433.\n",
      "\n",
      "Inflation is trending with a sentiment score of 0.010588035714285723.\n",
      "\n",
      "Energy is trending with a sentiment score of 0.10334321428571427.\n",
      "\n",
      "\n",
      "\n",
      "\n",
      "\n",
      "\n",
      "complete!\n"
     ]
    }
   ],
   "source": [
    "print_results()"
   ]
  },
  {
   "cell_type": "code",
   "execution_count": 10,
   "metadata": {},
   "outputs": [],
   "source": [
    "from PyQt5 import QtCore, QtGui, QtWidgets"
   ]
  },
  {
   "cell_type": "code",
   "execution_count": 11,
   "metadata": {},
   "outputs": [
    {
     "ename": "AttributeError",
     "evalue": "'QApplication' object has no attribute 'print_results'",
     "output_type": "error",
     "traceback": [
      "\u001b[1;31m---------------------------------------------------------------------------\u001b[0m",
      "\u001b[1;31mAttributeError\u001b[0m                            Traceback (most recent call last)",
      "\u001b[1;32m~\\AppData\\Local\\Temp/ipykernel_13944/2422255547.py\u001b[0m in \u001b[0;36mOpenClick\u001b[1;34m(self)\u001b[0m\n\u001b[0;32m     18\u001b[0m \u001b[1;33m\u001b[0m\u001b[0m\n\u001b[0;32m     19\u001b[0m     \u001b[1;32mdef\u001b[0m \u001b[0mOpenClick\u001b[0m\u001b[1;33m(\u001b[0m\u001b[0mself\u001b[0m\u001b[1;33m)\u001b[0m\u001b[1;33m:\u001b[0m\u001b[1;33m\u001b[0m\u001b[1;33m\u001b[0m\u001b[0m\n\u001b[1;32m---> 20\u001b[1;33m         \u001b[0mapp\u001b[0m\u001b[1;33m.\u001b[0m\u001b[0mprint_results\u001b[0m\u001b[1;33m(\u001b[0m\u001b[1;33m)\u001b[0m\u001b[1;33m\u001b[0m\u001b[1;33m\u001b[0m\u001b[0m\n\u001b[0m\u001b[0;32m     21\u001b[0m \u001b[1;33m\u001b[0m\u001b[0m\n\u001b[0;32m     22\u001b[0m \u001b[1;32mif\u001b[0m \u001b[0m__name__\u001b[0m \u001b[1;33m==\u001b[0m \u001b[1;34m\"__main__\"\u001b[0m\u001b[1;33m:\u001b[0m\u001b[1;33m\u001b[0m\u001b[1;33m\u001b[0m\u001b[0m\n",
      "\u001b[1;31mAttributeError\u001b[0m: 'QApplication' object has no attribute 'print_results'"
     ]
    },
    {
     "ename": "SystemExit",
     "evalue": "0",
     "output_type": "error",
     "traceback": [
      "An exception has occurred, use %tb to see the full traceback.\n",
      "\u001b[1;31mSystemExit\u001b[0m\u001b[1;31m:\u001b[0m 0\n"
     ]
    },
    {
     "name": "stderr",
     "output_type": "stream",
     "text": [
      "C:\\Users\\jteel\\AppData\\Roaming\\Python\\Python39\\site-packages\\IPython\\core\\interactiveshell.py:3465: UserWarning: To exit: use 'exit', 'quit', or Ctrl-D.\n",
      "  warn(\"To exit: use 'exit', 'quit', or Ctrl-D.\", stacklevel=1)\n"
     ]
    }
   ],
   "source": [
    "class Ui_MainWindow(object):\n",
    "    def setupUi(self, MainWindow):\n",
    "        MainWindow.setObjectName(\"MainWindow\")\n",
    "        MainWindow.resize(519, 354)\n",
    "        self.centralwidget = QtWidgets.QWidget(MainWindow)\n",
    "        self.centralwidget.setObjectName(\"centralwidget\")\n",
    "        self.pushButton = QtWidgets.QPushButton(self.centralwidget)\n",
    "        self.pushButton.setGeometry(QtCore.QRect(210, 140, 75, 23))\n",
    "        self.pushButton.setObjectName(\"pushButton\")\n",
    "        MainWindow.setCentralWidget(self.centralwidget)\n",
    "        self.retranslateUi(MainWindow)\n",
    "        QtCore.QMetaObject.connectSlotsByName(MainWindow)\n",
    "    def retranslateUi(self, MainWindow):\n",
    "        _translate = QtCore.QCoreApplication.translate\n",
    "        MainWindow.setWindowTitle(_translate(\"MainWindow\", \"MainWindow\"))\n",
    "        self.pushButton.setText(_translate(\"MainWindow\", \"Current Market Analysis\"))\n",
    "        self.pushButton.clicked.connect(self.OpenClick)\n",
    "\n",
    "    def OpenClick(self):\n",
    "        app.print_results()\n",
    "\n",
    "if __name__ == \"__main__\":\n",
    "    import sys\n",
    "    app = QtWidgets.QApplication(sys.argv)\n",
    "    MainWindow = QtWidgets.QMainWindow()\n",
    "    ui = Ui_MainWindow()\n",
    "    ui.setupUi(MainWindow)\n",
    "    MainWindow.show()\n",
    "    sys.exit(app.exec_())"
   ]
  },
  {
   "cell_type": "code",
   "execution_count": null,
   "metadata": {},
   "outputs": [],
   "source": []
  }
 ],
 "metadata": {
  "interpreter": {
   "hash": "e532577c4550b8f2a692b1ac40196b8c4784c71f82a5af3255187b0204544e2d"
  },
  "kernelspec": {
   "display_name": "Python 3.9.7 64-bit ('ml': conda)",
   "language": "python",
   "name": "python3"
  },
  "language_info": {
   "codemirror_mode": {
    "name": "ipython",
    "version": 3
   },
   "file_extension": ".py",
   "mimetype": "text/x-python",
   "name": "python",
   "nbconvert_exporter": "python",
   "pygments_lexer": "ipython3",
   "version": "3.9.7"
  },
  "orig_nbformat": 4
 },
 "nbformat": 4,
 "nbformat_minor": 2
}
